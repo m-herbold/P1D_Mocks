{
 "cells": [
  {
   "cell_type": "code",
   "execution_count": null,
   "id": "5b59419c",
   "metadata": {},
   "outputs": [],
   "source": [
    "import struct\n",
    "\n",
    "import numpy as np\n",
    "import fitsio\n",
    "import matplotlib.pyplot as plt\n",
    "\n",
    "from astropy.cosmology import FlatLambdaCDM\n",
    "\n",
    "# import qsotools.fiducial as qfid\n",
    "\n",
    "# plt.style.use(\"/Users/nk452/style_prof.mplstyle\")"
   ]
  },
  {
   "cell_type": "code",
   "execution_count": null,
   "id": "1fce2caa",
   "metadata": {},
   "outputs": [],
   "source": [
    "def turner24_mf(z):\n",
    "    return np.exp(-2.46e-3 * (1 + z)**3.62)"
   ]
  },
  {
   "cell_type": "code",
   "execution_count": null,
   "id": "beb74252",
   "metadata": {},
   "outputs": [],
   "source": [
    "class SherwoodGrid(object):\n",
    "    \"\"\"\n",
    "    Parameters:\n",
    "    fname (str): Filename to open\n",
    "    a (int, default: 1): Axis to pick\n",
    "    \n",
    "    Additional notes on data structure\n",
    "    Header:\n",
    "    npix (long, 4 bytes)\n",
    "    nlos (long, 4 bytes)\n",
    "    ztime (float, 4 bytes)\n",
    "    omegaM (float, 4 bytes)\n",
    "    omegaL (float, 4 bytes)\n",
    "    omegab (float, 4 bytes)\n",
    "    hubble, h (float, 4 bytes)\n",
    "    boxsize, h/ckpc (float, 4 bytes)\n",
    "    \n",
    "    Data:\n",
    "    axis[nlos] (long, 4 * nlos)\n",
    "    coord1[nlos] (float, 4 * nlos)\n",
    "    coord2[nlos] (float, 4 * nlos)\n",
    "    pixels[npix] (float, 4 * npix)\n",
    "    tau[npix * nlos] (float, 4 * nlos * npix)\n",
    "    \"\"\"\n",
    "\n",
    "    HDR = \"iiffffff\"\n",
    "    HDR_SIZE = struct.calcsize(HDR)\n",
    "\n",
    "    def __init__(self, fname):\n",
    "        with open(fname, \"rb\") as f:\n",
    "            (self.npix, self.nlos, self.ztime,\n",
    "             self.omegaM, self.omegaL, self.omegab,\n",
    "             self.h, self.L\n",
    "            ) = struct.unpack(SherwoodGrid.HDR, f.read(SherwoodGrid.HDR_SIZE))\n",
    "            \n",
    "            self.axis = np.fromfile(\n",
    "                f, dtype='i4', count=self.nlos)\n",
    "            self.coord1 = np.fromfile(\n",
    "                f, dtype='f4', count=self.nlos) / 1e3\n",
    "            self.coord2 = np.fromfile(\n",
    "                f, dtype='f4', count=self.nlos) / 1e3\n",
    "            self.pixels = np.fromfile(\n",
    "                f, dtype='f4', count=self.npix) / 1e3\n",
    "            self.tau = np.fromfile(\n",
    "                f, dtype='f4', count=self.npix * self.nlos)\n",
    "        \n",
    "        self.L /= 1e3  # in Mpc / h\n",
    "        self.coord1 = self.coord1\n",
    "        self.coord2 = self.coord2\n",
    "        self.tau = self.tau.reshape(self.nlos, self.npix)\n",
    "        self.flux = np.exp(-self.tau)\n",
    "        self.meanflux = np.mean(self.flux)\n",
    "        self.deltas = self.flux / self.meanflux - 1\n",
    "        self.cosmo = FlatLambdaCDM(\n",
    "            H0=100 * self.h, Om0=self.omegaM, Ob0=self.omegab)\n",
    "        self.cMpch2kms = 100.0 * self.cosmo.efunc(self.ztime) / (1 + self.ztime)\n",
    "\n",
    "    def estimateP1D(self):\n",
    "        dlos = self.pixels[1] - self.pixels[0]\n",
    "        klos = 2 * np.pi * np.fft.rfftfreq(self.npix, d=dlos)\n",
    "        deltas_k = np.fft.rfft(self.deltas, axis=1) * dlos\n",
    "        p1d = np.abs(deltas_k)**2 / self.L\n",
    "        return klos, p1d.mean(axis=0)"
   ]
  },
  {
   "cell_type": "code",
   "execution_count": null,
   "id": "453f2134",
   "metadata": {},
   "outputs": [],
   "source": [
    "fts_sw = SherwoodGrid(\"tauH1_lya_z2.8.dat\")"
   ]
  },
  {
   "cell_type": "code",
   "execution_count": null,
   "id": "22564f0a",
   "metadata": {},
   "outputs": [],
   "source": [
    "plt.plot(fts_sw.pixels, np.exp(-fts_sw.tau[0]))\n",
    "plt.plot(fts_sw.pixels, np.exp(-fts_sw.tau[10]))\n",
    "plt.show()"
   ]
  }
 ],
 "metadata": {
  "kernelspec": {
   "display_name": "Python 3 (ipykernel)",
   "language": "python",
   "name": "python3"
  },
  "language_info": {
   "codemirror_mode": {
    "name": "ipython",
    "version": 3
   },
   "file_extension": ".py",
   "mimetype": "text/x-python",
   "name": "python",
   "nbconvert_exporter": "python",
   "pygments_lexer": "ipython3",
   "version": "3.10.12"
  }
 },
 "nbformat": 4,
 "nbformat_minor": 5
}
